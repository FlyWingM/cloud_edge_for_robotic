{
 "cells": [
  {
   "cell_type": "code",
   "execution_count": 4,
   "id": "9fff6b3c",
   "metadata": {
    "scrolled": false
   },
   "outputs": [
    {
     "name": "stdout",
     "output_type": "stream",
     "text": [
      "Initializing ObjectDetector with model_path=./od_models/faster_rcnn_R_50_FPN_3x.pth\n",
      "Loading PyTorch model from: ./od_models/faster_rcnn_R_50_FPN_3x.pth\n",
      "Detected Faster R-CNN model. Initializing architecture...\n"
     ]
    },
    {
     "name": "stderr",
     "output_type": "stream",
     "text": [
      "C:\\Users\\eunils\\Anaconda3\\lib\\site-packages\\torchvision\\models\\_utils.py:208: UserWarning: The parameter 'pretrained' is deprecated since 0.13 and may be removed in the future, please use 'weights' instead.\n",
      "  warnings.warn(\n",
      "C:\\Users\\eunils\\Anaconda3\\lib\\site-packages\\torchvision\\models\\_utils.py:223: UserWarning: Arguments other than a weight enum or `None` for 'weights' are deprecated since 0.13 and may be removed in the future. The current behavior is equivalent to passing `weights=None`.\n",
      "  warnings.warn(msg)\n",
      "INFO:LocalDebug:Faster R-CNN model loaded successfully.\n"
     ]
    },
    {
     "name": "stdout",
     "output_type": "stream",
     "text": [
      "Detections: [{'label': 78, 'confidence': 0.8605508804321289, 'bbox': (0.8371498107910156, 0.11307051181793212, 0.1376650810241699, 0.2720336357752482)}, {'label': 47, 'confidence': 0.8138944506645203, 'bbox': (0.5623972415924072, 0.7051806767781575, 0.08997349739074707, 0.12740389506022134)}, {'label': 10, 'confidence': 0.8043392896652222, 'bbox': (0.8278355598449707, 0.8047330220540364, 0.034140491485595705, 0.08527787526448567)}, {'label': 72, 'confidence': 0.7867657542228699, 'bbox': (0.836734390258789, 0.6053212483723959, 0.12518653869628907, 0.21941026051839194)}, {'label': 82, 'confidence': 0.5129879713058472, 'bbox': (0.9438779830932618, 0.42033640543619794, 0.05612201690673828, 0.5690821965535482)}, {'label': 82, 'confidence': 0.5025594234466553, 'bbox': (0.0, 0.0, 0.9728662490844726, 0.9860406875610351)}]\n"
     ]
    }
   ],
   "source": [
    "# In a Jupyter cell:\n",
    "from services.microservice_od import load_detector, detect_on_local_image\n",
    "\n",
    "# Load your preferred quality: low, medium high\n",
    "detector = load_detector(model_quality=\"high\", confidence_threshold=0.5)\n",
    "\n",
    "# Run detection on a local image\n",
    "results = detect_on_local_image(detector, \"images/14.jpg\")\n",
    "print(\"Detections:\", results)"
   ]
  },
  {
   "cell_type": "code",
   "execution_count": null,
   "id": "5fea7eb5",
   "metadata": {},
   "outputs": [],
   "source": []
  }
 ],
 "metadata": {
  "kernelspec": {
   "display_name": "Python 3 (ipykernel)",
   "language": "python",
   "name": "python3"
  },
  "language_info": {
   "codemirror_mode": {
    "name": "ipython",
    "version": 3
   },
   "file_extension": ".py",
   "mimetype": "text/x-python",
   "name": "python",
   "nbconvert_exporter": "python",
   "pygments_lexer": "ipython3",
   "version": "3.9.13"
  }
 },
 "nbformat": 4,
 "nbformat_minor": 5
}
